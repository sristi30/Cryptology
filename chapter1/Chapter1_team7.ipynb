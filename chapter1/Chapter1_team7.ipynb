{
 "cells": [
  {
   "cell_type": "markdown",
   "metadata": {},
   "source": [
    "### Perform frequency analysis "
   ]
  },
  {
   "cell_type": "code",
   "execution_count": 1,
   "metadata": {
    "scrolled": false
   },
   "outputs": [
    {
     "name": "stdout",
     "output_type": "stream",
     "text": [
      "[('a', 1), ('b', 22), ('c', 5), ('d', 8), ('e', 15), ('f', 17), ('g', 4), ('h', 42), ('i', 28), ('j', 8), ('k', 2), ('l', 27), ('m', 9), ('n', 8), ('o', 15), ('p', 5), ('q', 9), ('r', 6), ('s', 7), ('w', 26), ('x', 4), ('y', 19), ('z', 7)]\n"
     ]
    }
   ],
   "source": [
    "code = \"Gyq boch helhfhz lbh dwfil mbojnhf yd lbh mochi. Oi gyq moe ihh lbhfh wi eylbwep yd welhfhil we lbh mbojnhf. Iyjh yd lbh solhf mbojnhfi rwss nh jyfh welhfhilwep lboe lbwi yeh, w oj ihfwyqi. Lbh myzh qihz dyf lbwi jhiioph wi o iwjxsh iqnilwlqlwye mwxbhf we rbwmb zwpwli boch nhhe ibwdlhz ng 6 xsomhi. Dyf lbwi fyqez xoiiryfz wi pwche nhsyr, rwlbyql lbh kqylhi rgSd40Akfc\"\n",
    "lCode = code.lower()\n",
    "\n",
    "alphabet = ['a','b','c','d','e','f','g','h','i','j','k','l','m',\n",
    "    'n','o','p','q','r','s','t','u','v','w','x','y','z']\n",
    "\n",
    "# count frequencies of all letters in the code\n",
    "hits = [\n",
    "    (alphabet[i], lCode.count(alphabet[i]))\n",
    "    for i in range(len(alphabet))\n",
    "    if lCode.count(alphabet[i])\n",
    "]\n",
    "    \n",
    "characterArray = list(lCode)\n",
    "print(hits)"
   ]
  },
  {
   "cell_type": "markdown",
   "metadata": {},
   "source": [
    "### Substitute letters using frequency analysis results"
   ]
  },
  {
   "cell_type": "code",
   "execution_count": 2,
   "metadata": {},
   "outputs": [
    {
     "name": "stdout",
     "output_type": "stream",
     "text": [
      "___    h__e    e_te_e_    the    ____t    _h___e_    __    the    ___e__    __    ___    ___    _ee    the_e    __    __th___    __    __te_e_t    __    the    _h___e__    ___e    __    the    __te_    _h___e__    ____    _e    ___e    __te_e_t___    th__    th__    __e_    _    __    _e______    the    ___e    __e_    ___    th__    _e____e    __    _    _____e    ____t_t_t___    ___he_    __    _h__h    ____t_    h__e    _ee_    _h__te_    __    _    ____e__    ___    th__    _____    ________    __    ___e_    _e____    __th__t    the    ___te_    __________\n"
     ]
    }
   ],
   "source": [
    "plainText = [];\n",
    "for i in range(len(characterArray)):\n",
    "    if(characterArray[i] == 'h'):\n",
    "        plainText.append('e')\n",
    "    elif (characterArray[i] == 'l'):\n",
    "        plainText.append('t')\n",
    "    elif (characterArray[i] == 'b'):\n",
    "        plainText.append('h')\n",
    "    elif (characterArray[i] == ' '):\n",
    "        plainText.append('    ')\n",
    "    else:\n",
    "        plainText.append('_')\n",
    "\n",
    "print(''.join(plainText))"
   ]
  },
  {
   "cell_type": "markdown",
   "metadata": {},
   "source": [
    "### Substitute letters by guessing what words could be"
   ]
  },
  {
   "cell_type": "code",
   "execution_count": 3,
   "metadata": {},
   "outputs": [
    {
     "name": "stdout",
     "output_type": "stream",
     "text": [
      "you have entered the first chamber of the caves. as you can see there is nothing of interest in the chamber. some of the later chambers will be more interesting than this one, i am serious. the code used for this message is a simple substitution cipher in which digits have been shifted by 6 places. for this round password is given below, without the quotes wylf___qrv\n"
     ]
    }
   ],
   "source": [
    "plainText = [];\n",
    "for i in range(len(characterArray)):\n",
    "    if(characterArray[i] == 'h'):\n",
    "        plainText.append('e')\n",
    "    elif (characterArray[i] == 'l'):\n",
    "        plainText.append('t')\n",
    "    elif (characterArray[i] == 'b'):\n",
    "        plainText.append('h')\n",
    "    elif (characterArray[i] == 'f'):\n",
    "        plainText.append('r')\n",
    "    elif (characterArray[i] == 'i'):\n",
    "        plainText.append('s')\n",
    "    elif (characterArray[i] == 'w'):\n",
    "        plainText.append('i')\n",
    "    elif (characterArray[i] == 'd'):\n",
    "        plainText.append('f')\n",
    "    elif (characterArray[i] == 'o'):\n",
    "        plainText.append('a')\n",
    "    elif (characterArray[i] == 'c'):\n",
    "        plainText.append('v')\n",
    "    elif (characterArray[i] == 'm'):\n",
    "        plainText.append('c')\n",
    "    elif (characterArray[i] == '.'):\n",
    "        plainText.append('.')\n",
    "    elif (characterArray[i] == ','):\n",
    "        plainText.append(',')\n",
    "    elif (characterArray[i] == '6'):\n",
    "        plainText.append('6')\n",
    "    elif (characterArray[i] == 'e'):\n",
    "        plainText.append('n')\n",
    "    elif (characterArray[i] == 'z'):\n",
    "        plainText.append('d')\n",
    "    elif (characterArray[i] == 'p'):\n",
    "        plainText.append('g')\n",
    "    elif (characterArray[i] == 'y'):\n",
    "        plainText.append('o')\n",
    "    elif (characterArray[i] == 'x'):\n",
    "        plainText.append('p')\n",
    "    elif (characterArray[i] == 'r'):\n",
    "        plainText.append('w')\n",
    "    elif (characterArray[i] == 'q'):\n",
    "        plainText.append('u')\n",
    "    elif (characterArray[i] == 'g'):\n",
    "        plainText.append('y')\n",
    "    elif (characterArray[i] == 'j'):\n",
    "        plainText.append('m')\n",
    "    elif (characterArray[i] == 'n'):\n",
    "        plainText.append('b')\n",
    "    elif (characterArray[i] == 's'):\n",
    "        plainText.append('l')\n",
    "    elif (characterArray[i] == 'k'):\n",
    "        plainText.append('q')\n",
    "    elif (characterArray[i] == ' '):\n",
    "        plainText.append(' ')\n",
    "    else:\n",
    "        plainText.append('_')\n",
    "\n",
    "print(''.join(plainText))"
   ]
  },
  {
   "cell_type": "code",
   "execution_count": null,
   "metadata": {},
   "outputs": [],
   "source": []
  }
 ],
 "metadata": {
  "kernelspec": {
   "display_name": "Python 3",
   "language": "python",
   "name": "python3"
  },
  "language_info": {
   "codemirror_mode": {
    "name": "ipython",
    "version": 3
   },
   "file_extension": ".py",
   "mimetype": "text/x-python",
   "name": "python",
   "nbconvert_exporter": "python",
   "pygments_lexer": "ipython3",
   "version": "3.6.5"
  }
 },
 "nbformat": 4,
 "nbformat_minor": 2
}
