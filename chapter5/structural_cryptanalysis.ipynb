{
 "cells": [
  {
   "cell_type": "markdown",
   "metadata": {},
   "source": [
    "#### processes cipher text received from the curl command and converts it to its hex representation using the mapping"
   ]
  },
  {
   "cell_type": "code",
   "execution_count": 1,
   "metadata": {
    "scrolled": false
   },
   "outputs": [],
   "source": [
    "import numpy as np\n",
    "import random\n",
    "from numpy.linalg import matrix_rank\n",
    "# import eaeae_helper\n",
    "\n",
    "# np.set_printoptions(threshold=np.nan)\n",
    "ciphertexts_file = open(\"ciphertextsP0P4.txt\",\"r\")\n",
    "\n",
    "hex_ctexts = [[] for i in range(128)]\n",
    "ctexts = [[] for i in range(128)]\n",
    "\n",
    "for p1 in range(128):\n",
    "    for p2 in range(128):\n",
    "        unprocessed_ctext = ciphertexts_file.read(34)\n",
    "        ctext = unprocessed_ctext.replace('{\\\"ciphertext\\\": \\\"',\"\")\n",
    "        ctext = ctext.replace('\\\"}','')\n",
    "        ctexts[p1].append(ctext)\n",
    "        hex_ctext = \"\"\n",
    "        for char in ctext:\n",
    "            nibble = ord(char) - ord('f')\n",
    "            hex_ctext += hex(nibble)[2:]\n",
    "        hex_ctexts[p1].append(hex_ctext)\n",
    "        \n",
    "ciphertexts_file.close()"
   ]
  },
  {
   "cell_type": "markdown",
   "metadata": {},
   "source": [
    "#### solves the system of homogenous equations E3"
   ]
  },
  {
   "cell_type": "code",
   "execution_count": 2,
   "metadata": {},
   "outputs": [
    {
     "name": "stdout",
     "output_type": "stream",
     "text": [
      "for ebox 0, rank: 1\n",
      "for ebox 1, rank: 1\n",
      "for ebox 2, rank: 1\n",
      "for ebox 3, rank: 1\n",
      "for ebox 4, rank: 120\n",
      "for ebox 5, rank: 120\n",
      "for ebox 6, rank: 120\n",
      "for ebox 7, rank: 120\n"
     ]
    }
   ],
   "source": [
    "# generate 8 sets of num_sets homogenous equations\n",
    "num_sets = 256\n",
    "equation_set = np.zeros((8, num_sets, 128), dtype = int)\n",
    "\n",
    "# for the first set of 128 equations\n",
    "for ebox in range(8):\n",
    "    for p1 in range(128):\n",
    "        for p2 in range(128):\n",
    "            var_index = int(hex_ctexts[p1][p2][2*ebox:2*ebox+2], 16)\n",
    "            assert var_index < 128\n",
    "            equation_set[ebox][p1][var_index] ^= 1\n",
    "# for the second set of 128 equations\n",
    "for ebox in range(8):\n",
    "    for p2 in range(num_sets-128):\n",
    "        for p1 in range(128):\n",
    "            var_index = int(hex_ctexts[p1][p2][2*ebox:2*ebox+2], 16)\n",
    "            assert var_index < 128\n",
    "            equation_set[ebox][128+p2][var_index] ^= 1\n",
    "\n",
    "# solve the system of equations\n",
    "free_variables = [[] for ebox in range(8)]\n",
    "for ebox in range(8):\n",
    "    for var in range(128):    \n",
    "        # identify the row with the next pivot\n",
    "        if np.any(equation_set[ebox][var:,var] == 1):\n",
    "            pivot_row = np.where(equation_set[ebox][var:,var] == 1)[0][0] + var\n",
    "        else:\n",
    "            # remember the free variables\n",
    "            free_variables[ebox].append(var)\n",
    "            continue\n",
    "        # swap the pivot row into place\n",
    "        equation_set[ebox][[var, pivot_row]] = equation_set[ebox][[pivot_row, var]]\n",
    "        # make the elements above and below the pivot zero\n",
    "        for eq in range(num_sets):\n",
    "            if equation_set[ebox][eq][var] == 1:\n",
    "                if eq != var:\n",
    "                    equation_set[ebox][eq] ^= equation_set[ebox][var]\n",
    "    \n",
    "for ebox in range(8):\n",
    "    print(\"for ebox {}, rank: {}\".format(ebox, 128-len(free_variables[ebox])))"
   ]
  },
  {
   "cell_type": "code",
   "execution_count": 4,
   "metadata": {},
   "outputs": [],
   "source": []
  }
 ],
 "metadata": {
  "kernelspec": {
   "display_name": "Python 3",
   "language": "python",
   "name": "python3"
  },
  "language_info": {
   "codemirror_mode": {
    "name": "ipython",
    "version": 3
   },
   "file_extension": ".py",
   "mimetype": "text/x-python",
   "name": "python",
   "nbconvert_exporter": "python",
   "pygments_lexer": "ipython3",
   "version": "3.6.5"
  }
 },
 "nbformat": 4,
 "nbformat_minor": 2
}
