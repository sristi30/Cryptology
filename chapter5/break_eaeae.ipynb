{
 "cells": [
  {
   "cell_type": "code",
   "execution_count": 46,
   "metadata": {},
   "outputs": [],
   "source": [
    "import os"
   ]
  },
  {
   "cell_type": "markdown",
   "metadata": {},
   "source": [
    "### Two cipher blocks"
   ]
  },
  {
   "cell_type": "code",
   "execution_count": null,
   "metadata": {},
   "outputs": [],
   "source": [
    "ciphers=\"hjhmmjhmmoloigjq\"   #For 1st block\n",
    "#ciphers=\"hgkhgqltjsihjqfi\"   For 2nd block"
   ]
  },
  {
   "cell_type": "markdown",
   "metadata": {},
   "source": [
    "### Getting bytes of plaintext iteratively by looking at corresponding bytes of ciphertext"
   ]
  },
  {
   "cell_type": "code",
   "execution_count": 47,
   "metadata": {},
   "outputs": [
    {
     "name": "stdout",
     "output_type": "stream",
     "text": [
      "Found \"hj\" at 100\n",
      "Found \"hm\" at 104\n",
      "Found \"mj\" at 99\n",
      "Found \"hm\" at 105\n",
      "Found \"mo\" at 107\n",
      "Found \"lo\" at 110\n",
      "Found \"ig\" at 99\n",
      "Found \"jq\" at 106\n",
      "lilmlhlnlplslhlo\n"
     ]
    }
   ],
   "source": [
    "decrypted_password=\"\"\n",
    "for k in range(8):\n",
    "    file = open(\"new.txt\", \"w+\")\n",
    "    for i in range(128):\n",
    "        b=bin(i)[2:].zfill(8)\n",
    "        first=b[0:4]\n",
    "        second=b[4:8]\n",
    "        fi=int(first,2)\n",
    "        si=int(second,2)\n",
    "        fi=fi+ord('f')\n",
    "        si=si+ord('f')\n",
    "        fi=chr(fi)\n",
    "        si=chr(si)\n",
    "        s=decrypted_password+fi + si +\"ff\"*(7-k)\n",
    "        file.write(\"{}\\n\".format(s))\n",
    "    file.close()\n",
    "    ret=os.system(\"./generate_ciphertexts.sh\")\n",
    "    assert(ret==0)\n",
    "    byte_pos = k\n",
    "    byte_value = ciphers[2*k:2*k+2]\n",
    "    ciphertexts_file = open(\"ciphertexts.txt\",\"r\")\n",
    "    s = \"\"\n",
    "    j = 1\n",
    "    count=0\n",
    "    while j < 128:\n",
    "       s = ciphertexts_file.read(34)\n",
    "       cipher=s[16:32]\n",
    "       if cipher[2*byte_pos:2*byte_pos+2] == byte_value:\n",
    "           print(\"Found \\\"{}\\\" at {}\".format(byte_value, j))\n",
    "           count+=1\n",
    "           h=hex(j-1)[2:].zfill(2)\n",
    "           char1=chr(int(h[0],16)+102)\n",
    "           char2=chr(int(h[1],16)+102)\n",
    "           decrypted_password+=(char1+char2)\n",
    "       j += 1\n",
    "    assert(count==1)\n",
    "    ciphertexts_file.close()\n",
    "print(decrypted_password)"
   ]
  },
  {
   "cell_type": "code",
   "execution_count": null,
   "metadata": {},
   "outputs": [],
   "source": []
  }
 ],
 "metadata": {
  "kernelspec": {
   "display_name": "Python 3",
   "language": "python",
   "name": "python3"
  },
  "language_info": {
   "codemirror_mode": {
    "name": "ipython",
    "version": 3
   },
   "file_extension": ".py",
   "mimetype": "text/x-python",
   "name": "python",
   "nbconvert_exporter": "python",
   "pygments_lexer": "ipython3",
   "version": "3.6.5"
  }
 },
 "nbformat": 4,
 "nbformat_minor": 2
}
