{
 "cells": [
  {
   "cell_type": "code",
   "execution_count": 2,
   "metadata": {},
   "outputs": [],
   "source": [
    "import os\n",
    "const_text = \"mtguknfpgsmllphu\"\n",
    "p_index1, p_index2 = 0, 4\n",
    "\n",
    "file = open(\"new.txt\", \"w+\")\n",
    "\n",
    "plaintexts = [[] for i in range(128)]\n",
    "\n",
    "for p1 in range(128):\n",
    "    \n",
    "    block_p1 = hex(p1)[2:].zfill(2)\n",
    "    p1_char1 = chr(int(block_p1[0], 16) + ord('f'))\n",
    "    p1_char2 = chr(int(block_p1[1], 16) + ord('f'))\n",
    "    \n",
    "    for p2 in range(128):\n",
    "        \n",
    "        block_p2 = hex(p2)[2:].zfill(2)\n",
    "        p2_char1 = chr(int(block_p2[0], 16) + ord('f'))\n",
    "        p2_char2 = chr(int(block_p2[1], 16) + ord('f'))\n",
    "        \n",
    "        # generate plaintext\n",
    "        plaintext = \"\"\n",
    "        for byte in range(8):\n",
    "            if byte == p_index1:\n",
    "                plaintext += p1_char1 + p1_char2\n",
    "            elif byte == p_index2:\n",
    "                plaintext += p2_char1 + p2_char2\n",
    "            else:\n",
    "                plaintext += const_text[2*byte:2*byte+2]\n",
    "        plaintexts[p1].append(plaintext)\n",
    "        file.write(\"{}\\n\".format(plaintext))\n",
    "        \n",
    "os.system(\"./generate_ciphertexts.sh\")"
   ]
  },
  {
   "cell_type": "code",
   "execution_count": null,
   "metadata": {},
   "outputs": [],
   "source": []
  }
 ],
 "metadata": {
  "kernelspec": {
   "display_name": "Python 3",
   "language": "python",
   "name": "python3"
  },
  "language_info": {
   "codemirror_mode": {
    "name": "ipython",
    "version": 3
   },
   "file_extension": ".py",
   "mimetype": "text/x-python",
   "name": "python",
   "nbconvert_exporter": "python",
   "pygments_lexer": "ipython3",
   "version": "3.6.7"
  }
 },
 "nbformat": 4,
 "nbformat_minor": 2
}
