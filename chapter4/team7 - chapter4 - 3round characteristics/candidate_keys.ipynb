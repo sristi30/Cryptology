{
 "cells": [
  {
   "cell_type": "code",
   "execution_count": null,
   "metadata": {},
   "outputs": [],
   "source": [
    "key_out_file=open(\"key_out.txt\",'w')\n",
    "for i in range(2**14):\n",
    "    key_out_file.write(str(i//8192%2) +'00'+ str(i//4096%2) + str(i//2048%2)+ '1'+ str(i//1024%2) + str(i//512%2)+'01010' + str(i//256%2)  + '101' +  str(i//128%2) + str(i//64%2)+'10' +  str(i//32%2)+ '10001' + str(i//16%2) + '1110011'+str(i//8%2) + '00000001' + str(i//4%2) + '10'+str(i//2%2) + '0010'+str(i%2)  + '010\\n')\n",
    "key_out_file.close()"
   ]
  }
 ],
 "metadata": {
  "kernelspec": {
   "display_name": "Python 3",
   "language": "python",
   "name": "python3"
  },
  "language_info": {
   "codemirror_mode": {
    "name": "ipython",
    "version": 3
   },
   "file_extension": ".py",
   "mimetype": "text/x-python",
   "name": "python",
   "nbconvert_exporter": "python",
   "pygments_lexer": "ipython3",
   "version": "3.6.5"
  }
 },
 "nbformat": 4,
 "nbformat_minor": 2
}
