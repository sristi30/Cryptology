{
 "cells": [
  {
   "cell_type": "code",
   "execution_count": 12,
   "metadata": {},
   "outputs": [],
   "source": [
    "# processing cipher text recieved from the curl command \n",
    "# and converting it to binary based on the assumed mapping\n",
    "\n",
    "ciphertexts_file = open(\"ciphertexts.txt\",\"r\")\n",
    "binciphertexts_file = open('binciphertexts.txt','w')\n",
    "\n",
    "s = \"\"\n",
    "j = 0\n",
    "\n",
    "while j<10000:\n",
    "    s = ciphertexts_file.read(34)\n",
    "    t = s.replace('{\\\"ciphertext\\\": \\\"',\"\")\n",
    "    t = t.replace('\\\"}','')\n",
    "    for i in t:\n",
    "        # 102: ASCII for 'f'\n",
    "        temp = ord(i) - ord('f')\n",
    "        temp = \"\".join(bin(temp))[2:].zfill(4)\n",
    "        binciphertexts_file.write(temp)\n",
    "    binciphertexts_file.write('\\n')\n",
    "    j += 1\n",
    "\n",
    "ciphertexts_file.close()\n",
    "binciphertexts_file.close()"
   ]
  },
  {
   "cell_type": "code",
   "execution_count": null,
   "metadata": {},
   "outputs": [],
   "source": []
  }
 ],
 "metadata": {
  "kernelspec": {
   "display_name": "Python 3",
   "language": "python",
   "name": "python3"
  },
  "language_info": {
   "codemirror_mode": {
    "name": "ipython",
    "version": 3
   },
   "file_extension": ".py",
   "mimetype": "text/x-python",
   "name": "python",
   "nbconvert_exporter": "python",
   "pygments_lexer": "ipython3",
   "version": "3.6.5"
  }
 },
 "nbformat": 4,
 "nbformat_minor": 2
}
