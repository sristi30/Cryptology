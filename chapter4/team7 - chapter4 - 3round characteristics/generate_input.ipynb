{
 "cells": [
  {
   "cell_type": "code",
   "execution_count": 3,
   "metadata": {},
   "outputs": [
    {
     "name": "stdout",
     "output_type": "stream",
     "text": [
      "0x80100100000\n"
     ]
    }
   ],
   "source": [
    "import random\n",
    "\n",
    "ipermuted_xor = (bin(0x0020000800000400)[2:].zfill(64))\n",
    "# ipermuted_xor = (bin(0x4008000004000000)[2:].zfill(64))\n",
    "\n",
    "inverse_ipermutation = [40, 8, 48, 16, 56, 24, 64, 32,\n",
    "                        39, 7, 47, 15, 55, 23, 63, 31,\n",
    "                        38, 6, 46, 14, 54, 22, 62, 30,\n",
    "                        37, 5, 45, 13, 53, 21, 61, 29,\n",
    "                        36, 4, 44, 12, 52, 20, 60, 28,\n",
    "                        35, 3, 43, 11, 51, 19, 59, 27,\n",
    "                        34, 2, 42, 10, 50, 18, 58, 26,\n",
    "                        33, 1, 41, 9, 49, 17, 57, 25 ]\n",
    "\n",
    "# reindexing from 0 to 63 instead of from 1 to 64\n",
    "for i in range(len(inverse_ipermutation)):\n",
    "    inverse_ipermutation[i] -= 1\n",
    "\n",
    "# xor of plaintexts before the initial permutation is applied    \n",
    "initial_xor = [ipermuted_xor[i] for i in inverse_ipermutation]\n",
    "initial_xor = \"\".join(initial_xor)\n",
    "\n",
    "file = open(\"inputtexts.txt\", \"a+\")\n",
    "\n",
    "for k in range(10000):\n",
    "    # generating pairs of plaintexts with fixed xor\n",
    "    plaintext_bin1 = []\n",
    "    for i in range(64):\n",
    "        plaintext_bin1.append(random.randint(0,1))\n",
    "    plaintext_bin1 = \"\".join(str(v) for v in plaintext_bin1)\n",
    "\n",
    "    plaintext_bin2 = int(plaintext_bin1, 2) ^ int(initial_xor, 2)\n",
    "    plaintext_bin2 = (bin(plaintext_bin2))[2:].zfill(64)\n",
    "\n",
    "    # mapping it to characters between f and u\n",
    "    i, j = 0, 0\n",
    "    plaintext1 = []\n",
    "    while i < len(plaintext_bin1):\n",
    "        block = plaintext_bin1[i:i+4]\n",
    "        block = int(block,2)\n",
    "        plaintext1.append(chr(102+block))\n",
    "        j += 1\n",
    "        i += 4\n",
    "    plaintext1 = \"\".join(plaintext1)\n",
    "    file.write(\"{}\\n\".format(plaintext1))\n",
    "\n",
    "    i, j = 0, 0\n",
    "    plaintext2 = []\n",
    "    while i < len(plaintext_bin2):\n",
    "        block = plaintext_bin2[i:i+4]\n",
    "        block = int(block,2)\n",
    "        plaintext2.append(chr(102+block))\n",
    "        j += 1\n",
    "        i += 4\n",
    "    plaintext2 = \"\".join(plaintext2)\n",
    "    file.write(\"{}\\n\".format(plaintext2))"
   ]
  },
  {
   "cell_type": "code",
   "execution_count": null,
   "metadata": {},
   "outputs": [],
   "source": []
  }
 ],
 "metadata": {
  "kernelspec": {
   "display_name": "Python 3",
   "language": "python",
   "name": "python3"
  },
  "language_info": {
   "codemirror_mode": {
    "name": "ipython",
    "version": 3
   },
   "file_extension": ".py",
   "mimetype": "text/x-python",
   "name": "python",
   "nbconvert_exporter": "python",
   "pygments_lexer": "ipython3",
   "version": "3.6.5"
  }
 },
 "nbformat": 4,
 "nbformat_minor": 2
}
