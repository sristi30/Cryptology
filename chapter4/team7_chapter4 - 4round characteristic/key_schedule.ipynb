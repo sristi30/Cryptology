{
 "cells": [
  {
   "cell_type": "code",
   "execution_count": 2,
   "metadata": {},
   "outputs": [
    {
     "name": "stdout",
     "output_type": "stream",
     "text": [
      "XX0XX1XXX10X0X10XXX10XX00X1X1110011X00000001X10X0010X010\n"
     ]
    }
   ],
   "source": [
    "pc1=[                  #Permutation matrix 1 for key schedule\n",
    "  57, 49, 41, 33, 25, 17, 9,\n",
    "  1, 58, 50, 42, 34, 26, 18,\n",
    "  10,  2, 59, 51, 43, 35, 27,\n",
    "  19, 11,  3, 60, 52, 44, 36,\n",
    "  63, 55, 47, 39, 31, 23, 15,\n",
    "  7, 62, 54, 46, 38, 30, 22,\n",
    "  14,  6, 61, 53, 45, 37, 29,\n",
    "  21, 13,  5, 28, 20, 12,  4\n",
    "]\n",
    "pc2 = [                 #Permutation matrix 2 for key schedule\n",
    "  14, 17, 11, 24,  1, 5,\n",
    "  3, 28 ,15,  6, 21, 10,\n",
    "  23, 19, 12,  4, 26, 8,\n",
    "  16,  7, 27, 20, 13, 2,\n",
    "  41, 52, 31, 37, 47, 55,\n",
    "  30, 40, 51, 45, 33, 48,\n",
    "  44, 49, 39, 56, 34, 53,\n",
    "  46, 42, 50, 36, 29, 32\n",
    "]\n",
    "s=\"010101010001XXXXXXXXXXXX110010000101010011000100\"#Key guessed from sbox \n",
    "new=['X']*56\n",
    "for i in range(len(s)):\n",
    "#     new[i]=s[pc2[i]]\n",
    "    new[pc2[i]-1]=s[i]       #Applying inverse of permutation 2\n",
    "y=\"\".join(new)               \n",
    "shifts=[1, 1, 2, 2, 2, 2, 2, 2, 1, 2, 2, 2, 2, 2, 2, 1]     \n",
    "for i in range(6):           #Shifting the key and generating 56 bit key\n",
    "    for j in range(shifts[i]):\n",
    "        a=new[55]\n",
    "        b=new[27]\n",
    "        k=27\n",
    "        while(k>=1):\n",
    "            new[k]=new[k-1]\n",
    "            new[k+28]=new[k+27]\n",
    "            k-=1\n",
    "        new[0]=b\n",
    "        new[28]=a\n",
    "print(\"\".join(new))\n"
   ]
  },
  {
   "cell_type": "code",
   "execution_count": null,
   "metadata": {},
   "outputs": [],
   "source": []
  }
 ],
 "metadata": {
  "kernelspec": {
   "display_name": "Python 3",
   "language": "python",
   "name": "python3"
  },
  "language_info": {
   "codemirror_mode": {
    "name": "ipython",
    "version": 3
   },
   "file_extension": ".py",
   "mimetype": "text/x-python",
   "name": "python",
   "nbconvert_exporter": "python",
   "pygments_lexer": "ipython3",
   "version": "3.6.5"
  }
 },
 "nbformat": 4,
 "nbformat_minor": 2
}
