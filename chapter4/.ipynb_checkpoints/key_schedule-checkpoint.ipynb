{
 "cells": [
  {
   "cell_type": "code",
   "execution_count": null,
   "metadata": {},
   "outputs": [],
   "source": [
    "pc2 = [                 #Permutation matrix 2 for key schedule\n",
    "  14, 17, 11, 24,  1, 5,\n",
    "  3, 28 ,15,  6, 21, 10,\n",
    "  23, 19, 12,  4, 26, 8,\n",
    "  16,  7, 27, 20, 13, 2,\n",
    "  41, 52, 31, 37, 47, 55,\n",
    "  30, 40, 51, 45, 33, 48,\n",
    "  44, 49, 39, 56, 34, 53,\n",
    "  46, 42, 50, 36, 29, 32\n",
    "]\n",
    "#s=\"011001101101010110XXXXXX110110000010XXXXXX111110\"  #Key guessed from sbox \n",
    "s=\"010101010001XXXXXX010011110010000101010011000100\"\n",
    "new=['X']*56\n",
    "for i in range(len(s)):\n",
    "    new[pc2[i]-1]=s[i]       #Applying inverse of permutation 2\n",
    "y=\"\".join(new)               \n",
    "shifts=[1, 1, 2, 2, 2, 2, 2, 2, 1, 2, 2, 2, 2, 2, 2, 1]     \n",
    "for i in range(6):           #Shifting the key and generating 56 bit key\n",
    "    for j in range(shifts[i]):\n",
    "        a=new[55]\n",
    "        b=new[27]\n",
    "        k=27\n",
    "        while(k>=1):\n",
    "            new[k]=new[k-1]\n",
    "            new[k+28]=new[k+27]\n",
    "            k-=1\n",
    "        new[0]=b\n",
    "        new[28]=a\n",
    "print(\"\".join(new))"
   ]
  }
 ],
 "metadata": {
  "kernelspec": {
   "display_name": "Python 3",
   "language": "python",
   "name": "python3"
  },
  "language_info": {
   "codemirror_mode": {
    "name": "ipython",
    "version": 3
   },
   "file_extension": ".py",
   "mimetype": "text/x-python",
   "name": "python",
   "nbconvert_exporter": "python",
   "pygments_lexer": "ipython3",
   "version": "3.6.5"
  }
 },
 "nbformat": 4,
 "nbformat_minor": 2
}
