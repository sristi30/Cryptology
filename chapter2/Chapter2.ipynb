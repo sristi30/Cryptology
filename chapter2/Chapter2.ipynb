{
 "cells": [
  {
   "cell_type": "code",
   "execution_count": 1,
   "metadata": {},
   "outputs": [],
   "source": [
    "import operator"
   ]
  },
  {
   "cell_type": "markdown",
   "metadata": {},
   "source": [
    "### Transforming the given ciphertext to remove spaces, comma(,) and dot(.) etc"
   ]
  },
  {
   "cell_type": "code",
   "execution_count": 2,
   "metadata": {},
   "outputs": [],
   "source": [
    "cipher = \"Lg ccud qh urg tgay ejbwdkt, wmgtf su bgud nkudnk lrd vjfbg. Yrhfm qvd vng sfuuxytj 'vkj_ecwo_ogp_ej_rnfkukf' wt iq urtuwjm. Ocz iqa jdag vio uzthsivi pqx vkj pgyd encpggt. Uy hopg yjg fhkz arz hkscv ckoq pgfn vu wwygt nkioe zttft djkth.\"\n",
    "cipher = cipher.lower()\n",
    "\n",
    "mod_cipher = cipher.replace(\" \",\"\")\n",
    "mod_cipher = mod_cipher.replace(\".\",\"\")\n",
    "mod_cipher = mod_cipher.replace(\"_\",\"\")\n",
    "mod_cipher = mod_cipher.replace(\"'\",\"\")\n",
    "mod_cipher = mod_cipher.replace(\",\",\"\")\n",
    "\n",
    "len_cipher=len(mod_cipher)"
   ]
  },
  {
   "cell_type": "markdown",
   "metadata": {},
   "source": [
    "### Performing frequency analysis on ciphertext"
   ]
  },
  {
   "cell_type": "code",
   "execution_count": 3,
   "metadata": {},
   "outputs": [
    {
     "name": "stdout",
     "output_type": "stream",
     "text": [
      "[('g', 16), ('u', 13), ('t', 13), ('k', 12), ('j', 10), ('d', 9), ('f', 9), ('v', 9), ('c', 7), ('h', 7), ('y', 7), ('w', 7), ('n', 7), ('o', 7), ('q', 6), ('r', 6), ('p', 6), ('i', 6), ('e', 5), ('z', 5), ('a', 4), ('s', 4), ('b', 3), ('m', 3), ('l', 2), ('x', 2)]\n",
      "g: 8.64864864864865\n",
      "u: 7.027027027027027\n",
      "t: 7.027027027027027\n",
      "k: 6.486486486486487\n",
      "j: 5.405405405405405\n",
      "d: 4.864864864864865\n",
      "f: 4.864864864864865\n",
      "v: 4.864864864864865\n",
      "c: 3.783783783783784\n",
      "h: 3.783783783783784\n",
      "y: 3.783783783783784\n",
      "w: 3.783783783783784\n",
      "n: 3.783783783783784\n",
      "o: 3.783783783783784\n",
      "q: 3.2432432432432434\n",
      "r: 3.2432432432432434\n",
      "p: 3.2432432432432434\n",
      "i: 3.2432432432432434\n",
      "e: 2.7027027027027026\n",
      "z: 2.7027027027027026\n",
      "a: 2.1621621621621623\n",
      "s: 2.1621621621621623\n",
      "b: 1.6216216216216217\n",
      "m: 1.6216216216216217\n",
      "l: 1.0810810810810811\n",
      "x: 1.0810810810810811\n"
     ]
    }
   ],
   "source": [
    "freq = {}\n",
    "for i in mod_cipher:\n",
    "    if i in freq:\n",
    "        freq[i] = freq[i] + 1\n",
    "    else:\n",
    "        freq[i] = 1\n",
    "      \n",
    "sorted_freq = sorted(freq.items(), key = operator.itemgetter(1), reverse = True)\n",
    "\n",
    "print(sorted_freq)\n",
    "for (k,v) in sorted_freq:\n",
    "    print(k + \": \" + str(float(v) / len_cipher * 100))    "
   ]
  },
  {
   "cell_type": "markdown",
   "metadata": {},
   "source": [
    "### Guessing key length"
   ]
  },
  {
   "cell_type": "code",
   "execution_count": 4,
   "metadata": {},
   "outputs": [
    {
     "name": "stdout",
     "output_type": "stream",
     "text": [
      "ud: 27\n",
      "ur: 81\n",
      "gt: 14\n",
      "ej: 61\n",
      "kt: 162\n",
      "gt: 108\n",
      "tf: 152\n",
      "bg: 16\n",
      "ud: 4\n",
      "dn: 4\n",
      "nk: 4\n",
      "ku: 47\n",
      "nk: 133\n",
      "dv: 13\n",
      "gy: 78\n",
      "vk: 54\n",
      "kj: 54\n",
      "iq: 12\n",
      "tu: 42\n",
      "uw: 72\n",
      "vi: 9\n",
      "io: 65\n",
      "zt: 65\n",
      "th: 72\n",
      "pg: 7\n",
      "gy: 15\n",
      "pg: 8\n",
      "gt: 36\n",
      "pg: 21\n",
      "gf: 18\n",
      "hk: 6\n"
     ]
    }
   ],
   "source": [
    "temp = mod_cipher\n",
    "for i in range(len_cipher):\n",
    "    subs = temp[0:2]\n",
    "    y = temp[1:]\n",
    "    offset = y.find(subs)\n",
    "    if(offset != -1):\n",
    "        print(subs + \": \" + str(offset + 1))\n",
    "    temp = temp[1:]\n",
    "    i += 1"
   ]
  },
  {
   "cell_type": "code",
   "execution_count": 5,
   "metadata": {},
   "outputs": [
    {
     "name": "stdout",
     "output_type": "stream",
     "text": [
      "lgccudqhu\n",
      "rgtgayejb\n",
      "wdktwmgtf\n",
      "subgudnku\n",
      "dnklrdvjf\n",
      "bgyrhfmqv\n",
      "dvngsfuux\n",
      "ytjvkjecw\n",
      "oogpejrnf\n",
      "kukfwtiqu\n",
      "rtuwjmocz\n",
      "iqajdagvi\n",
      "ouzthsivi\n",
      "pqxvkjpgy\n",
      "dencpggtu\n",
      "yhopgyjgf\n",
      "hkzarzhks\n",
      "cvckoqpgf\n",
      "nvuwwygtn\n",
      "kioezttft\n",
      "djkth\n",
      "['lrwsdbdyokriopdyhcnkd', 'ggdungvtoutquqehkvvij', 'ctkbkynjgkuazxnozcuok', 'cgtglrgvpfwjtvcpakwet', 'uawurhskewjdhkpgrowzh', 'dymddffjjtmasjgyzqyt', 'qegnvmueriogipgjhpgt', 'hjtkjqucnqcvvgtgkgtf', 'ubfufvxwfuziiyufsfnt']\n"
     ]
    }
   ],
   "source": [
    "i = 0\n",
    "while(i < 185):\n",
    "    y = mod_cipher[i:i+9]\n",
    "    i = i + 9\n",
    "    print(y)\n",
    "sb = [\"\",\"\",\"\",\"\",\"\",\"\",\"\",\"\",\"\"]\n",
    "h = \"\"\n",
    "j = 0\n",
    "for i in mod_cipher:\n",
    "    sb[j % 9] += i\n",
    "    j += 1\n",
    "print(sb)"
   ]
  },
  {
   "cell_type": "markdown",
   "metadata": {},
   "source": [
    "### Frequency Analysis within the blocks(encoded with same letter of key)"
   ]
  },
  {
   "cell_type": "code",
   "execution_count": 6,
   "metadata": {},
   "outputs": [
    {
     "name": "stdout",
     "output_type": "stream",
     "text": [
      "Group1\n",
      "{'l': 1, 'r': 2, 'w': 1, 's': 1, 'd': 4, 'b': 1, 'y': 2, 'o': 2, 'k': 2, 'i': 1, 'p': 1, 'h': 1, 'c': 1, 'n': 1}\n",
      "Group2\n",
      "{'g': 3, 'd': 1, 'u': 3, 'n': 1, 'v': 3, 't': 2, 'o': 1, 'q': 2, 'e': 1, 'h': 1, 'k': 1, 'i': 1, 'j': 1}\n",
      "Group3\n",
      "{'c': 2, 't': 1, 'k': 4, 'b': 1, 'y': 1, 'n': 2, 'j': 1, 'g': 1, 'u': 2, 'a': 1, 'z': 2, 'x': 1, 'o': 2}\n",
      "Group4\n",
      "{'c': 2, 'g': 3, 't': 3, 'l': 1, 'r': 1, 'v': 2, 'p': 2, 'f': 1, 'w': 2, 'j': 1, 'a': 1, 'k': 1, 'e': 1}\n",
      "Group5\n",
      "{'u': 2, 'a': 1, 'w': 3, 'r': 2, 'h': 3, 's': 1, 'k': 2, 'e': 1, 'j': 1, 'd': 1, 'p': 1, 'g': 1, 'o': 1, 'z': 1}\n",
      "Group6\n",
      "{'d': 3, 'y': 3, 'm': 2, 'f': 2, 'j': 3, 't': 2, 'a': 1, 's': 1, 'g': 1, 'z': 1, 'q': 1}\n",
      "Group7\n",
      "{'q': 1, 'e': 2, 'g': 4, 'n': 1, 'v': 1, 'm': 1, 'u': 1, 'r': 1, 'i': 2, 'o': 1, 'p': 2, 'j': 1, 'h': 1, 't': 1}\n",
      "Group8\n",
      "{'h': 1, 'j': 2, 't': 3, 'k': 2, 'q': 2, 'u': 1, 'c': 2, 'n': 1, 'v': 2, 'g': 3, 'f': 1}\n",
      "Group9\n",
      "{'u': 4, 'b': 1, 'f': 5, 'v': 1, 'x': 1, 'w': 1, 'z': 1, 'i': 2, 'y': 1, 's': 1, 'n': 1, 't': 1}\n"
     ]
    }
   ],
   "source": [
    "new = []\n",
    "for i in sb:\n",
    "    freq_dict = {}\n",
    "    for j in range(len(i)):\n",
    "        k = i[j]\n",
    "        if(k in freq_dict):\n",
    "            freq_dict[k] = freq_dict[k] + 1\n",
    "        else:\n",
    "            freq_dict[k] = 1\n",
    "    new.append(freq_dict)\n",
    "for i in range(9):\n",
    "    print(\"Group\" + str(i + 1))\n",
    "    print(new[i])"
   ]
  },
  {
   "cell_type": "markdown",
   "metadata": {},
   "source": [
    "### Determine plain-text using the key inferred (Vigenère cipher)"
   ]
  },
  {
   "cell_type": "code",
   "execution_count": 7,
   "metadata": {},
   "outputs": [
    {
     "name": "stdout",
     "output_type": "stream",
     "text": [
      "be wary of the next chamber, there is very little joy there. speak out the password 'the_cave_man_be_pleased' to go through. may you have the strength for the next chamber. to find the exit you first will need to utter magic words there.\n"
     ]
    }
   ],
   "source": [
    "plainText = []\n",
    "charCount = 0\n",
    "key_length= 9 \n",
    "for i in range(len(cipher)):\n",
    "    if(cipher[i].isalpha()):\n",
    "        if((charCount % key_length) == 0):\n",
    "            c = ord(cipher[i]) - ord('k')\n",
    "            if (c < 0):\n",
    "                c += 26\n",
    "        \n",
    "        elif((charCount % key_length) == 1):\n",
    "            c = ord(cipher[i]) - ord('c')\n",
    "            if (c < 0):\n",
    "                c += 26\n",
    "        \n",
    "        elif((charCount % key_length) == 2):\n",
    "            c = ord(cipher[i]) - ord('g')\n",
    "            if (c < 0):\n",
    "                c += 26\n",
    "            \n",
    "        elif((charCount % key_length) == 3):\n",
    "            c = ord(cipher[i]) - ord('c')\n",
    "            if (c < 0):\n",
    "                c += 26\n",
    "        \n",
    "        elif((charCount % key_length) == 4):\n",
    "            c = ord(cipher[i]) - ord('d')\n",
    "            if (c < 0):\n",
    "                c += 26\n",
    "        \n",
    "        elif((charCount % key_length) == 5):\n",
    "            c = ord(cipher[i]) - ord('f')\n",
    "            if (c < 0):\n",
    "                c += 26\n",
    "        \n",
    "        elif((charCount % key_length) == 6):\n",
    "            c = ord(cipher[i]) - ord('c')\n",
    "            if (c < 0):\n",
    "                c += 26\n",
    "        \n",
    "        elif((charCount % key_length) == 7):\n",
    "            c = ord(cipher[i]) - ord('c')\n",
    "            if (c < 0):\n",
    "                c += 26\n",
    "        \n",
    "        elif((charCount % key_length) == 8):\n",
    "            c = ord(cipher[i]) - ord('b')\n",
    "            if (c < 0):\n",
    "                c += 26            \n",
    "                \n",
    "        plainText.append(chr(ord('a') + c))\n",
    "        charCount += 1\n",
    "    \n",
    "    # retain all non-alphabetic characters as is\n",
    "    else:\n",
    "        plainText.append(cipher[i])\n",
    "       \n",
    "print(''.join(plainText))        "
   ]
  },
  {
   "cell_type": "code",
   "execution_count": null,
   "metadata": {},
   "outputs": [],
   "source": []
  }
 ],
 "metadata": {
  "kernelspec": {
   "display_name": "Python 3",
   "language": "python",
   "name": "python3"
  },
  "language_info": {
   "codemirror_mode": {
    "name": "ipython",
    "version": 3
   },
   "file_extension": ".py",
   "mimetype": "text/x-python",
   "name": "python",
   "nbconvert_exporter": "python",
   "pygments_lexer": "ipython3",
   "version": "3.6.5"
  }
 },
 "nbformat": 4,
 "nbformat_minor": 2
}
