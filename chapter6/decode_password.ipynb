{
 "cells": [
  {
   "cell_type": "code",
   "execution_count": 1,
   "metadata": {
    "scrolled": true
   },
   "outputs": [
    {
     "name": "stdout",
     "output_type": "stream",
     "text": [
      "82\n",
      "JHKUOOmnvs\n"
     ]
    }
   ],
   "source": [
    "decoded = \"110010110101101101111011010010101010101100001011000010010010100100011000100110001101\"\n",
    "\n",
    "dummy = \"1\"*len(decoded)\n",
    "twoscomp = int(dummy, 2) ^ int(decoded, 2)\n",
    "twoscomp += 1\n",
    "twoscomp = bin(twoscomp)[2:]\n",
    "print(len(twoscomp))\n",
    "\n",
    "passphrase = \"\"\n",
    "for block in range(10):\n",
    "    c = twoscomp[2+block*8:2+(block+1)*8]\n",
    "    passphrase += chr(int(c, 2))\n",
    "\n",
    "print(passphrase)"
   ]
  },
  {
   "cell_type": "code",
   "execution_count": null,
   "metadata": {},
   "outputs": [],
   "source": []
  }
 ],
 "metadata": {
  "kernelspec": {
   "display_name": "Python 3",
   "language": "python",
   "name": "python3"
  },
  "language_info": {
   "codemirror_mode": {
    "name": "ipython",
    "version": 3
   },
   "file_extension": ".py",
   "mimetype": "text/x-python",
   "name": "python",
   "nbconvert_exporter": "python",
   "pygments_lexer": "ipython3",
   "version": "3.6.5"
  }
 },
 "nbformat": 4,
 "nbformat_minor": 2
}
